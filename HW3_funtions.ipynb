{
 "cells": [
  {
   "cell_type": "markdown",
   "metadata": {},
   "source": [
    "## Задание 1\n",
    "Вам нужно помочь секретарю автоматизировать работу. Для этого нужно написать программу, которая будет на основе хранимых данных исполнять пользовательские команды."
   ]
  },
  {
   "cell_type": "code",
   "execution_count": 42,
   "metadata": {},
   "outputs": [],
   "source": [
    "documents = [\n",
    " {'type': 'passport', 'number': '2207 876234', 'name': 'Василий Гупкин'},\n",
    " {'type': 'invoice', 'number': '11-2', 'name': 'Геннадий Покемонов'},\n",
    " {'type': 'insurance', 'number': '10006', 'name': 'Аристарх Павлов'}\n",
    "]\n",
    "\n",
    "directories = {\n",
    " '1': ['2207 876234', '11-2'],\n",
    " '2': ['10006'],\n",
    " '3': []\n",
    "}"
   ]
  },
  {
   "cell_type": "markdown",
   "metadata": {},
   "source": [
    "[Пункт 1](#task1)  Пользователь по команде \"p\" может узнать владельца документа по его номеру  \n",
    "[Пункт 2](#task2)  Пользователь по команде \"s\" может по номеру документа узнать на какой полке он хранится  \n",
    "[Пункт 3](#task3)  Пользователь по команде \"l\" может увидеть полную информацию по всем документам  \n",
    "[Пункт 4](#task4)  Пользователь по команде \"ads\" может добавить новую полку  \n",
    "[Пункт 5](#task5)  Пользователь по команде \"ds\" может удалить существующую полку из данных (только если она пустая)  \n",
    "[Пункт 2.1](#task2.1)  Пользователь по команде “ad” может добавить новый документ в данные  \n",
    "[Пункт 2.2](#task2.2) Пользователь по команде “d” может удалить документ из данных  "
   ]
  },
  {
   "cell_type": "markdown",
   "metadata": {},
   "source": [
    "### Пункт 1\n",
    "<a id='task1'></a>"
   ]
  },
  {
   "cell_type": "code",
   "execution_count": 43,
   "metadata": {},
   "outputs": [],
   "source": [
    "def p(docs): \n",
    "    a = input('Введите номер документа')\n",
    "    for doc in docs:          \n",
    "        if doc['number'] == a:\n",
    "            name = doc['name']\n",
    "    try:\n",
    "        res = print('Владелец документа:', name)        \n",
    "    except:\n",
    "        res = print('Документ не найден в базе')\n",
    "    return res\n"
   ]
  },
  {
   "cell_type": "markdown",
   "metadata": {},
   "source": [
    "### Пункт 2\n",
    "<a id='task2'></a>"
   ]
  },
  {
   "cell_type": "code",
   "execution_count": 44,
   "metadata": {},
   "outputs": [],
   "source": [
    "def s(dirs): \n",
    "    a = input('Введите номер документа')\n",
    "    for num in dirs.items():          \n",
    "        if a in num[1]:\n",
    "            b = num[0]\n",
    "    try:\n",
    "        res = print('Документ хранится на полке:', b)\n",
    "    except:\n",
    "        res = print('Документ не найден в базе')\n",
    "    return res\n"
   ]
  },
  {
   "cell_type": "markdown",
   "metadata": {},
   "source": [
    "### Пункт 3\n",
    "<a id='task3'></a>"
   ]
  },
  {
   "cell_type": "code",
   "execution_count": 45,
   "metadata": {},
   "outputs": [],
   "source": [
    "def l(docs, dirs):\n",
    "    for doc in docs:\n",
    "        for num in dirs.items():          \n",
    "            if doc['number'] in num[1]:\n",
    "                d = num[0]\n",
    "        doc.setdefault('directory', d)    \n",
    "        res = print('№:', doc['number'], ', тип:', doc['type'], ', владелец:', doc['name'], ', полка хранения:', doc['directory'])\n",
    "    return res\n",
    "\n"
   ]
  },
  {
   "cell_type": "markdown",
   "metadata": {},
   "source": [
    "### Пункт 4\n",
    "<a id='task4'></a>"
   ]
  },
  {
   "cell_type": "code",
   "execution_count": 46,
   "metadata": {},
   "outputs": [],
   "source": [
    "def ac(dirs):\n",
    "    new_dir = input('Введите номер полки')\n",
    "    if new_dir in dirs:\n",
    "        res = print('Такая полка уже существует. Текущий перечень полок:', list(dirs.keys()))\n",
    "    else:\n",
    "        dirs[new_dir]  = []\n",
    "        res = print('Добавлена новая полка. Текущий перечень полок:', list(dirs.keys()))\n",
    "    return res\n"
   ]
  },
  {
   "cell_type": "markdown",
   "metadata": {},
   "source": [
    "### Пункт 5\n",
    "<a id='task5'></a>"
   ]
  },
  {
   "cell_type": "code",
   "execution_count": 47,
   "metadata": {},
   "outputs": [],
   "source": [
    "def ds(dirs):\n",
    "    del_dir = input('Введите номер полки')\n",
    "    if del_dir in dirs and not dirs[del_dir]:\n",
    "        del dirs[del_dir]\n",
    "        res = print('Полка удалена. Текущий перечень полок:', list(dirs.keys()))\n",
    "    elif del_dir not in dirs:\n",
    "        res = print('Такой полки нет. Текущий перечень полок:', list(dirs.keys()))\n",
    "    else:\n",
    "        res = print('Полка не может быть удалена, на ней есть документы. Текущий перечень полок:', list(dirs.keys()))\n",
    "    return res\n"
   ]
  },
  {
   "cell_type": "markdown",
   "metadata": {},
   "source": [
    "### Пункт 2.2\n",
    "<a id='task2.2'></a>"
   ]
  },
  {
   "cell_type": "code",
   "execution_count": 4,
   "metadata": {},
   "outputs": [],
   "source": [
    "def ad(docs, dirs):\n",
    "    a = input('Введите тип документа')\n",
    "    b = input('Введите номер документа')\n",
    "    c = input('Введите владельца документа')\n",
    "    d = input('Введите номер полки для хранения')\n",
    "    if d in dirs:\n",
    "        docs.append({'type': a, 'number': b, 'name': c})\n",
    "        dirs[d]  += [b]\n",
    "        res = print('Документ добавлен. Текущий список документов:', l(docs, dirs))        \n",
    "    else:\n",
    "        res = print('Такой полки не существует. Добавьте полку командой as. Текущий список документов:', l(docs, dirs))\n",
    "    return res"
   ]
  },
  {
   "cell_type": "code",
   "execution_count": null,
   "metadata": {},
   "outputs": [
    {
     "name": "stdout",
     "output_type": "stream",
     "text": [
      "Введите командуз\n",
      "Введите команду\n",
      "Введите командуp\n",
      "Введите номер документа10006\n",
      "Владелец документа: Аристарх Павлов\n",
      "None\n"
     ]
    }
   ],
   "source": [
    "def main(docs, dirs):\n",
    "    while True:\n",
    "        user_cmd = input('Введите команду')\n",
    "        if user_cmd == 'p':\n",
    "            print(p(docs))\n",
    "        elif user_cmd == 's':\n",
    "            print(s(dirs))\n",
    "        elif user_cmd == 'l':\n",
    "            print(l(docs, dirs))\n",
    "        elif user_cmd == 'ac':\n",
    "            print(ac(dirs))\n",
    "        elif user_cmd == 'ds':\n",
    "            print(ds(dirs))\n",
    "        elif user_cmd == 'ad':\n",
    "            print(ad(docs, dirs))\n",
    "        elif user_cmd == 'q':\n",
    "            print('Программа завершена')\n",
    "            break\n",
    "            \n",
    "main(documents, directories)"
   ]
  },
  {
   "cell_type": "markdown",
   "metadata": {},
   "source": [
    "### Пункт 2.1\n",
    "<a id='task2.1'></a>"
   ]
  },
  {
   "cell_type": "code",
   "execution_count": 1,
   "metadata": {},
   "outputs": [],
   "source": [
    "documents_2 = [\n",
    " {'type': 'passport', 'number': '2207 876234', 'name': 'Василий Гупкин'},\n",
    " {'type': 'invoice', 'number': '11-2', 'name': 'Геннадий Покемонов'},\n",
    " {'type': 'insurance', 'number': '10006', 'name': 'Аристарх Павлов'}\n",
    "]\n",
    "\n",
    "directories_2 = {\n",
    " '1': ['2207 876234', '11-2'],\n",
    " '2': ['10006'],\n",
    " '3': []\n",
    "}"
   ]
  },
  {
   "cell_type": "code",
   "execution_count": 2,
   "metadata": {},
   "outputs": [],
   "source": [
    "def l(docs, dirs):\n",
    "    for doc in docs:\n",
    "        for num in dirs.items():          \n",
    "            if doc['number'] in num[1]:\n",
    "                d = num[0]\n",
    "        doc.setdefault('directory', d)    \n",
    "        res = print('№:', doc['number'], ', тип:', doc['type'], ', владелец:', doc['name'], ', полка хранения:', doc['directory'])\n",
    "    return res"
   ]
  },
  {
   "cell_type": "code",
   "execution_count": 101,
   "metadata": {},
   "outputs": [
    {
     "name": "stdout",
     "output_type": "stream",
     "text": [
      "Введите номер документа10006\n"
     ]
    },
    {
     "ename": "NameError",
     "evalue": "name 'number' is not defined",
     "output_type": "error",
     "traceback": [
      "\u001b[1;31m---------------------------------------------------------------------------\u001b[0m",
      "\u001b[1;31mNameError\u001b[0m                                 Traceback (most recent call last)",
      "\u001b[1;32m<ipython-input-101-60d1412b54ed>\u001b[0m in \u001b[0;36m<module>\u001b[1;34m\u001b[0m\n\u001b[0;32m     10\u001b[0m \u001b[1;33m\u001b[0m\u001b[0m\n\u001b[0;32m     11\u001b[0m     \u001b[1;32mreturn\u001b[0m \u001b[0mprint\u001b[0m\u001b[1;33m(\u001b[0m\u001b[0mres\u001b[0m\u001b[1;33m,\u001b[0m \u001b[0ml\u001b[0m\u001b[1;33m(\u001b[0m\u001b[0mdocs\u001b[0m\u001b[1;33m,\u001b[0m \u001b[0mdirs\u001b[0m\u001b[1;33m)\u001b[0m\u001b[1;33m,\u001b[0m \u001b[1;33m)\u001b[0m\u001b[1;33m\u001b[0m\u001b[1;33m\u001b[0m\u001b[0m\n\u001b[1;32m---> 12\u001b[1;33m \u001b[0md\u001b[0m\u001b[1;33m(\u001b[0m\u001b[0mdocuments_2\u001b[0m\u001b[1;33m,\u001b[0m \u001b[0mdirectories_2\u001b[0m\u001b[1;33m)\u001b[0m\u001b[1;33m\u001b[0m\u001b[1;33m\u001b[0m\u001b[0m\n\u001b[0m",
      "\u001b[1;32m<ipython-input-101-60d1412b54ed>\u001b[0m in \u001b[0;36md\u001b[1;34m(docs, dirs)\u001b[0m\n\u001b[0;32m      3\u001b[0m     \u001b[0mn\u001b[0m\u001b[1;33m=\u001b[0m\u001b[0mlen\u001b[0m\u001b[1;33m(\u001b[0m\u001b[0mdocs\u001b[0m\u001b[1;33m)\u001b[0m\u001b[1;33m\u001b[0m\u001b[1;33m\u001b[0m\u001b[0m\n\u001b[0;32m      4\u001b[0m     \u001b[1;32mfor\u001b[0m \u001b[0mi\u001b[0m \u001b[1;32min\u001b[0m \u001b[0mrange\u001b[0m\u001b[1;33m(\u001b[0m\u001b[0mn\u001b[0m\u001b[1;33m)\u001b[0m\u001b[1;33m:\u001b[0m\u001b[1;33m\u001b[0m\u001b[1;33m\u001b[0m\u001b[0m\n\u001b[1;32m----> 5\u001b[1;33m         \u001b[1;32mif\u001b[0m \u001b[0mdel_doc\u001b[0m \u001b[1;32min\u001b[0m \u001b[0mi\u001b[0m\u001b[1;33m[\u001b[0m\u001b[0mnumber\u001b[0m\u001b[1;33m]\u001b[0m\u001b[1;33m:\u001b[0m\u001b[1;33m\u001b[0m\u001b[1;33m\u001b[0m\u001b[0m\n\u001b[0m\u001b[0;32m      6\u001b[0m             \u001b[1;32mdel\u001b[0m \u001b[0mdoc\u001b[0m\u001b[1;33m[\u001b[0m\u001b[0mi\u001b[0m\u001b[1;33m+\u001b[0m\u001b[1;36m1\u001b[0m\u001b[1;33m]\u001b[0m\u001b[1;33m\u001b[0m\u001b[1;33m\u001b[0m\u001b[0m\n\u001b[0;32m      7\u001b[0m             \u001b[0mres\u001b[0m \u001b[1;33m=\u001b[0m \u001b[1;34m'Документ удален. Текущий список документов:'\u001b[0m\u001b[1;33m\u001b[0m\u001b[1;33m\u001b[0m\u001b[0m\n",
      "\u001b[1;31mNameError\u001b[0m: name 'number' is not defined"
     ]
    }
   ],
   "source": [
    "def d(docs, dirs):\n",
    "    del_doc = input('Введите номер документа')\n",
    "    n=len(docs)\n",
    "    for i in range(n):\n",
    "        if del_doc in i[number]:\n",
    "            del doc[i+1]\n",
    "            res = 'Документ удален. Текущий список документов:'\n",
    "        elif del_doc not in doc['number']:\n",
    "            res = 'Документ в базе не найден. Текущий список документов:'\n",
    "  \n",
    "    return print(res, l(docs, dirs), )\n",
    "d(documents_2, directories_2)"
   ]
  },
  {
   "cell_type": "code",
   "execution_count": 23,
   "metadata": {},
   "outputs": [
    {
     "name": "stdout",
     "output_type": "stream",
     "text": [
      "Введите номер документа10006\n"
     ]
    },
    {
     "ename": "TypeError",
     "evalue": "list indices must be integers or slices, not str",
     "output_type": "error",
     "traceback": [
      "\u001b[1;31m---------------------------------------------------------------------------\u001b[0m",
      "\u001b[1;31mTypeError\u001b[0m                                 Traceback (most recent call last)",
      "\u001b[1;32m<ipython-input-23-09e2224cb945>\u001b[0m in \u001b[0;36m<module>\u001b[1;34m\u001b[0m\n\u001b[0;32m      8\u001b[0m \u001b[1;33m\u001b[0m\u001b[0m\n\u001b[0;32m      9\u001b[0m     \u001b[1;32mreturn\u001b[0m \u001b[0mres\u001b[0m\u001b[1;33m\u001b[0m\u001b[1;33m\u001b[0m\u001b[0m\n\u001b[1;32m---> 10\u001b[1;33m \u001b[0md\u001b[0m\u001b[1;33m(\u001b[0m\u001b[0mdocuments_2\u001b[0m\u001b[1;33m,\u001b[0m \u001b[0mdirectories_2\u001b[0m\u001b[1;33m)\u001b[0m\u001b[1;33m\u001b[0m\u001b[1;33m\u001b[0m\u001b[0m\n\u001b[0m",
      "\u001b[1;32m<ipython-input-23-09e2224cb945>\u001b[0m in \u001b[0;36md\u001b[1;34m(docs, dirs)\u001b[0m\n\u001b[0;32m      3\u001b[0m     \u001b[0mn\u001b[0m \u001b[1;33m=\u001b[0m \u001b[0mlen\u001b[0m\u001b[1;33m(\u001b[0m\u001b[0mdocs\u001b[0m\u001b[1;33m)\u001b[0m\u001b[1;33m\u001b[0m\u001b[1;33m\u001b[0m\u001b[0m\n\u001b[0;32m      4\u001b[0m     \u001b[1;32mfor\u001b[0m \u001b[0mi\u001b[0m \u001b[1;32min\u001b[0m \u001b[0mrange\u001b[0m\u001b[1;33m(\u001b[0m\u001b[0mn\u001b[0m\u001b[1;33m-\u001b[0m\u001b[1;36m1\u001b[0m\u001b[1;33m)\u001b[0m\u001b[1;33m:\u001b[0m\u001b[1;33m\u001b[0m\u001b[1;33m\u001b[0m\u001b[0m\n\u001b[1;32m----> 5\u001b[1;33m         \u001b[1;32mif\u001b[0m \u001b[0mdel_doc\u001b[0m \u001b[1;32min\u001b[0m \u001b[0mdocs\u001b[0m\u001b[1;33m[\u001b[0m\u001b[1;34m'number'\u001b[0m\u001b[1;33m]\u001b[0m\u001b[1;33m:\u001b[0m\u001b[1;33m\u001b[0m\u001b[1;33m\u001b[0m\u001b[0m\n\u001b[0m\u001b[0;32m      6\u001b[0m             \u001b[1;32mdel\u001b[0m\u001b[1;33m(\u001b[0m\u001b[0mdocs\u001b[0m\u001b[1;33m[\u001b[0m\u001b[0mi\u001b[0m\u001b[1;33m]\u001b[0m\u001b[1;33m)\u001b[0m\u001b[1;33m\u001b[0m\u001b[1;33m\u001b[0m\u001b[0m\n\u001b[0;32m      7\u001b[0m         \u001b[0mres\u001b[0m \u001b[1;33m=\u001b[0m \u001b[0mprint\u001b[0m\u001b[1;33m(\u001b[0m\u001b[0mdocs\u001b[0m\u001b[1;33m)\u001b[0m\u001b[1;33m\u001b[0m\u001b[1;33m\u001b[0m\u001b[0m\n",
      "\u001b[1;31mTypeError\u001b[0m: list indices must be integers or slices, not str"
     ]
    }
   ],
   "source": [
    "def d(docs, dirs):\n",
    "    del_doc = input('Введите номер документа')\n",
    "    n = len(docs)        \n",
    "    for i in range(n-1):\n",
    "        if del_doc in doc['number']:      \n",
    "            del(docs[i])\n",
    "        res = print(docs)\n",
    "            \n",
    "    return res\n",
    "d(documents_2, directories_2)"
   ]
  },
  {
   "cell_type": "code",
   "execution_count": 16,
   "metadata": {},
   "outputs": [
    {
     "data": {
      "text/plain": [
       "[{'type': 'passport', 'number': '2207 876234', 'name': 'Василий Гупкин'}]"
      ]
     },
     "execution_count": 16,
     "metadata": {},
     "output_type": "execute_result"
    }
   ],
   "source": [
    "documents_2"
   ]
  },
  {
   "cell_type": "code",
   "execution_count": 79,
   "metadata": {},
   "outputs": [
    {
     "data": {
      "text/plain": [
       "{'1': ['2207 876234', '11-2'], '2': ['10006'], '3': []}"
      ]
     },
     "execution_count": 79,
     "metadata": {},
     "output_type": "execute_result"
    }
   ],
   "source": [
    "directories_2"
   ]
  },
  {
   "cell_type": "code",
   "execution_count": null,
   "metadata": {},
   "outputs": [],
   "source": []
  }
 ],
 "metadata": {
  "kernelspec": {
   "display_name": "Python 3",
   "language": "python",
   "name": "python3"
  },
  "language_info": {
   "codemirror_mode": {
    "name": "ipython",
    "version": 3
   },
   "file_extension": ".py",
   "mimetype": "text/x-python",
   "name": "python",
   "nbconvert_exporter": "python",
   "pygments_lexer": "ipython3",
   "version": "3.8.5"
  }
 },
 "nbformat": 4,
 "nbformat_minor": 4
}
